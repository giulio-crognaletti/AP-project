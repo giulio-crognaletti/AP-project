{
 "cells": [
  {
   "cell_type": "markdown",
   "metadata": {},
   "source": [
    "## Reverse dictionary\n",
    "\n",
    "Given the following `dict` `d` compute the reverse dictionary `rd`. Let `k_d` and `v_d` be the keys and values of `d`, respectively. The keys of `rd` `k_rd` are all the integer numbers contained in all the `v_d`. The values of `rd` are lists containing all the keys `k_d` where `k_rd` is inside the corresponding `v_d`. For example\n",
    "```python\n",
    "d  = {\"a\": [1, 2, 3], \"b\": [45, 6], \"c\": [2, 45]}\n",
    "\n",
    "rd = {1: [\"a\"], 2: [\"a\", \"c\"], 3: [\"a\"], 6: [\"b\"], 45: [\"b\", \"c\"]}\n",
    "```\n",
    "\n",
    "If you do not write the proper code, the computational time might exceed the time given for the exam! Numpy is not required.\n",
    "\n",
    "Hints: \n",
    "- comprehensions are your friend.\n",
    "- work on a small dictionay, once you are satisfied with your code, apply it to the big `d`\n",
    "- you can use the `test_exam.py` to test your implementation running `pytest test_exam.py` "
   ]
  },
  {
   "cell_type": "code",
   "execution_count": 5,
   "metadata": {},
   "outputs": [
    {
     "name": "stdout",
     "output_type": "stream",
     "text": [
      "A0 : [7, 190]\n",
      "A1 : [63, 58, 36, 189, 27]\n",
      "A2 : [23, 152, 109, 9, 8, 24, 56, 60, 130]\n",
      "A3 : [7, 144, 51, 184, 167, 180, 140, 108, 57, 115]\n",
      "A4 : [72, 2, 195, 41, 179, 109, 88, 72, 40, 56]\n",
      "A5 : [27, 24, 98, 25, 92, 89]\n",
      "A6 : [68, 12, 187, 118, 138, 32, 97, 21, 142, 76]\n",
      "A7 : [93, 148, 50, 181, 18, 12, 170, 59, 198, 75]\n",
      "A8 : [60, 26]\n",
      "A9 : [72, 117, 163, 94, 42, 95, 91]\n",
      "A10 : [172, 69, 180, 175]\n"
     ]
    }
   ],
   "source": [
    "chars = \"qwertyuiopasdfghjklzxcvbnm\"\n",
    "chars = sorted(chars.upper() + chars)\n",
    "\n",
    "keys = [c + str(n) for c in chars for n in range(100)]\n",
    "\n",
    "import random\n",
    "\n",
    "random.seed(42)\n",
    "\n",
    "d = {k: [random.randint(1, 200) for _ in range(random.randint(1, 10))] for k in keys}\n",
    "\n",
    "for i, (k, v) in enumerate(d.items()):\n",
    "    print(k, \":\", v)\n",
    "    if i == 10:\n",
    "        break"
   ]
  },
  {
   "cell_type": "code",
   "execution_count": 7,
   "metadata": {},
   "outputs": [],
   "source": [
    "def reverse_dict(d):    \n",
    "    ret = {}\n",
    "    for key, values in d.items():\n",
    "        for val in values:\n",
    "            ret[val] = ret.get(val, set()) #gets the set associated with val if already present, and creates a new one if not\n",
    "            ret[val].add(key) #adds the key to the newly found set\n",
    " \n",
    "    ret = {key:list(ret[key]) for key in ret} #transforms sets into lists by building a new \n",
    "    return ret\n",
    "\n",
    "rd = reverse_dict(d)\n",
    "rd"
   ]
  },
  {
   "cell_type": "code",
   "execution_count": null,
   "metadata": {},
   "outputs": [],
   "source": [
    "def slower_reverse_dict(d):\n",
    "    \"\"\"\n",
    "    uses comprehension but is slower because iterates over the original dictionary multiple times\n",
    "    \"\"\"\n",
    "    num = {single_val for val in d.values() for single_val in val} #build set with all the new keys\n",
    "    return {sin_val:[key for key, values in d.items() if sin_val in values] for sin_val in num} #create the correct dictionary\n",
    "\n",
    "rd = slower_reverse_dict(d)\n",
    "rd"
   ]
  }
 ],
 "metadata": {
  "kernelspec": {
   "display_name": "Python 3",
   "language": "python",
   "name": "python3"
  },
  "language_info": {
   "codemirror_mode": {
    "name": "ipython",
    "version": 3
   },
   "file_extension": ".py",
   "mimetype": "text/x-python",
   "name": "python",
   "nbconvert_exporter": "python",
   "pygments_lexer": "ipython3",
   "version": "3.8.5"
  }
 },
 "nbformat": 4,
 "nbformat_minor": 4
}
